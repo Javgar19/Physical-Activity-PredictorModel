{
 "cells": [
  {
   "cell_type": "markdown",
   "metadata": {},
   "source": [
    "# FINAL PROJECT NOTEBOOK"
   ]
  },
  {
   "cell_type": "markdown",
   "metadata": {},
   "source": [
    "In this project we will make a program which try to predict the kind of physical activity that a person is doing based on his phone's accelerometter data."
   ]
  },
  {
   "cell_type": "markdown",
   "metadata": {},
   "source": [
    "We will use as training data a sample of timestamps with some accelerometer data and a label attached to each moment corresponding to the kind of physical activity that the person was doing at that time (1:Standing, 2:Walking, 3:Stairs down, 4:Stairs up). I will divide this project in four parts:\n",
    "\n",
    "    1-Introduction (data reading and visualization)\n",
    "    2-Methods\n",
    "        2.1-Data setting and cleaning\n",
    "        2.2-Training and fitting\n",
    "    3-Results \n",
    "        3.1-Model accuracy\n",
    "        3.2-Predictions\n",
    "    4-Conclussions\n",
    "    \n",
    
   ]
  },
  {
   "cell_type": "markdown",
   "metadata": {},
   "source": [
    "## 1.Introduction"
   ]
  },
  {
   "cell_type": "markdown",
   "metadata": {},
   "source": [
    "Let's begin by reading all the neccesary files:"
   ]
  },
  {
   "cell_type": "code",
   "execution_count": 1,
   "metadata": {},
   "outputs": [],
   "source": [
    "from timeit import default_timer as timer\n",
    "start=timer() #We start measuring time now\n",
    "\n",
    "import pandas as pd\n",
    "pd.set_option('mode.chained_assignment', None)\n",
    "\n",
    "train_time_series=pd.read_csv(\"train_time_series.csv\") #Training accelerometer data\n",
    "train_labels=pd.read_csv(\"train_labels.csv\")  #Training data labels\n",
    "test_time_series=pd.read_csv(\"test_time_series.csv\") #Testing accelerometer data\n",
    "test_labels=pd.read_csv(\"test_labels.csv\") #Testing predictions\n"
   ]
  },
  {
   "cell_type": "markdown",
   "metadata": {},
   "source": [
    "Let's take a look to the training data:"
   ]
  },
  {
   "cell_type": "code",
   "execution_count": 2,
   "metadata": {},
   "outputs": [
    {
     "data": {
      "text/html": [
       "<div>\n",
       "<style scoped>\n",
       "    .dataframe tbody tr th:only-of-type {\n",
       "        vertical-align: middle;\n",
       "    }\n",
       "\n",
       "    .dataframe tbody tr th {\n",
       "        vertical-align: top;\n",
       "    }\n",
       "\n",
       "    .dataframe thead th {\n",
       "        text-align: right;\n",
       "    }\n",
       "</style>\n",
       "<table border=\"1\" class=\"dataframe\">\n",
       "  <thead>\n",
       "    <tr style=\"text-align: right;\">\n",
       "      <th></th>\n",
       "      <th>Unnamed: 0</th>\n",
       "      <th>timestamp</th>\n",
       "      <th>UTC time</th>\n",
       "      <th>accuracy</th>\n",
       "      <th>x</th>\n",
       "      <th>y</th>\n",
       "      <th>z</th>\n",
       "    </tr>\n",
       "  </thead>\n",
       "  <tbody>\n",
       "    <tr>\n",
       "      <th>0</th>\n",
       "      <td>20586</td>\n",
       "      <td>1565109930787</td>\n",
       "      <td>2019-08-06T16:45:30.787</td>\n",
       "      <td>unknown</td>\n",
       "      <td>-0.006485</td>\n",
       "      <td>-0.934860</td>\n",
       "      <td>-0.069046</td>\n",
       "    </tr>\n",
       "    <tr>\n",
       "      <th>1</th>\n",
       "      <td>20587</td>\n",
       "      <td>1565109930887</td>\n",
       "      <td>2019-08-06T16:45:30.887</td>\n",
       "      <td>unknown</td>\n",
       "      <td>-0.066467</td>\n",
       "      <td>-1.015442</td>\n",
       "      <td>0.089554</td>\n",
       "    </tr>\n",
       "    <tr>\n",
       "      <th>2</th>\n",
       "      <td>20588</td>\n",
       "      <td>1565109930987</td>\n",
       "      <td>2019-08-06T16:45:30.987</td>\n",
       "      <td>unknown</td>\n",
       "      <td>-0.043488</td>\n",
       "      <td>-1.021255</td>\n",
       "      <td>0.178467</td>\n",
       "    </tr>\n",
       "    <tr>\n",
       "      <th>3</th>\n",
       "      <td>20589</td>\n",
       "      <td>1565109931087</td>\n",
       "      <td>2019-08-06T16:45:31.087</td>\n",
       "      <td>unknown</td>\n",
       "      <td>-0.053802</td>\n",
       "      <td>-0.987701</td>\n",
       "      <td>0.068985</td>\n",
       "    </tr>\n",
       "    <tr>\n",
       "      <th>4</th>\n",
       "      <td>20590</td>\n",
       "      <td>1565109931188</td>\n",
       "      <td>2019-08-06T16:45:31.188</td>\n",
       "      <td>unknown</td>\n",
       "      <td>-0.054031</td>\n",
       "      <td>-1.003616</td>\n",
       "      <td>0.126450</td>\n",
       "    </tr>\n",
       "  </tbody>\n",
       "</table>\n",
       "</div>"
      ],
      "text/plain": [
       "   Unnamed: 0      timestamp                 UTC time accuracy         x  \\\n",
       "0       20586  1565109930787  2019-08-06T16:45:30.787  unknown -0.006485   \n",
       "1       20587  1565109930887  2019-08-06T16:45:30.887  unknown -0.066467   \n",
       "2       20588  1565109930987  2019-08-06T16:45:30.987  unknown -0.043488   \n",
       "3       20589  1565109931087  2019-08-06T16:45:31.087  unknown -0.053802   \n",
       "4       20590  1565109931188  2019-08-06T16:45:31.188  unknown -0.054031   \n",
       "\n",
       "          y         z  \n",
       "0 -0.934860 -0.069046  \n",
       "1 -1.015442  0.089554  \n",
       "2 -1.021255  0.178467  \n",
       "3 -0.987701  0.068985  \n",
       "4 -1.003616  0.126450  "
      ]
     },
     "execution_count": 2,
     "metadata": {},
     "output_type": "execute_result"
    }
   ],
   "source": [
    "train_time_series.head()"
   ]
  },
  {
   "cell_type": "code",
   "execution_count": 3,
   "metadata": {},
   "outputs": [
    {
     "data": {
      "text/html": [
       "<div>\n",
       "<style scoped>\n",
       "    .dataframe tbody tr th:only-of-type {\n",
       "        vertical-align: middle;\n",
       "    }\n",
       "\n",
       "    .dataframe tbody tr th {\n",
       "        vertical-align: top;\n",
       "    }\n",
       "\n",
       "    .dataframe thead th {\n",
       "        text-align: right;\n",
       "    }\n",
       "</style>\n",
       "<table border=\"1\" class=\"dataframe\">\n",
       "  <thead>\n",
       "    <tr style=\"text-align: right;\">\n",
       "      <th></th>\n",
       "      <th>Unnamed: 0</th>\n",
       "      <th>timestamp</th>\n",
       "      <th>UTC time</th>\n",
       "      <th>label</th>\n",
       "    </tr>\n",
       "  </thead>\n",
       "  <tbody>\n",
       "    <tr>\n",
       "      <th>0</th>\n",
       "      <td>20589</td>\n",
       "      <td>1565109931087</td>\n",
       "      <td>2019-08-06T16:45:31.087</td>\n",
       "      <td>1</td>\n",
       "    </tr>\n",
       "    <tr>\n",
       "      <th>1</th>\n",
       "      <td>20599</td>\n",
       "      <td>1565109932090</td>\n",
       "      <td>2019-08-06T16:45:32.090</td>\n",
       "      <td>1</td>\n",
       "    </tr>\n",
       "    <tr>\n",
       "      <th>2</th>\n",
       "      <td>20609</td>\n",
       "      <td>1565109933092</td>\n",
       "      <td>2019-08-06T16:45:33.092</td>\n",
       "      <td>1</td>\n",
       "    </tr>\n",
       "    <tr>\n",
       "      <th>3</th>\n",
       "      <td>20619</td>\n",
       "      <td>1565109934094</td>\n",
       "      <td>2019-08-06T16:45:34.094</td>\n",
       "      <td>1</td>\n",
       "    </tr>\n",
       "    <tr>\n",
       "      <th>4</th>\n",
       "      <td>20629</td>\n",
       "      <td>1565109935097</td>\n",
       "      <td>2019-08-06T16:45:35.097</td>\n",
       "      <td>1</td>\n",
       "    </tr>\n",
       "  </tbody>\n",
       "</table>\n",
       "</div>"
      ],
      "text/plain": [
       "   Unnamed: 0      timestamp                 UTC time  label\n",
       "0       20589  1565109931087  2019-08-06T16:45:31.087      1\n",
       "1       20599  1565109932090  2019-08-06T16:45:32.090      1\n",
       "2       20609  1565109933092  2019-08-06T16:45:33.092      1\n",
       "3       20619  1565109934094  2019-08-06T16:45:34.094      1\n",
       "4       20629  1565109935097  2019-08-06T16:45:35.097      1"
      ]
     },
     "execution_count": 3,
     "metadata": {},
     "output_type": "execute_result"
    }
   ],
   "source": [
    "train_labels.head()"
   ]
  },
  {
   "cell_type": "markdown",
   "metadata": {},
   "source": [
    "As we can see, both dataframes contains series of timestamps with different information attached to each one: `train_time_series` has the \"x\", \"y\" and \"z\" components of the acceleration that the accelerometer is mesuring at each timestamp and `train_labels` has the kind of physical activity that the person is doing at each timestamp (labeled by 1 to 4).\n",
    "\n",
    "If we now chek the dataframes shape, we will notice they are not the same size:"
   ]
  },
  {
   "cell_type": "code",
   "execution_count": 4,
   "metadata": {},
   "outputs": [
    {
     "name": "stdout",
     "output_type": "stream",
     "text": [
      "The train_time_series dataframe shape is:  (3744, 7) \n",
      " The train_labels dataframe shape is:  (375, 4)\n"
     ]
    }
   ],
   "source": [
    "print(\"The train_time_series dataframe shape is: \",train_time_series.shape ,\"\\n\",\n",
    "      \n",
    "      \"The train_labels dataframe shape is: \",train_labels.shape)"
   ]
  },
  {
   "cell_type": "markdown",
   "metadata": {},
   "source": [
    "This happens because each measurement in `train_labels` is made every 10 measurements in `train_time_series`, so we will have to deal with this shape diference (we'll do it in section 2)."
   ]
  },
  {
   "cell_type": "markdown",
   "metadata": {},
   "source": [
    "Let's now take a look at the testing dataframes:"
   ]
  },
  {
   "cell_type": "code",
   "execution_count": 5,
   "metadata": {},
   "outputs": [
    {
     "data": {
      "text/html": [
       "<div>\n",
       "<style scoped>\n",
       "    .dataframe tbody tr th:only-of-type {\n",
       "        vertical-align: middle;\n",
       "    }\n",
       "\n",
       "    .dataframe tbody tr th {\n",
       "        vertical-align: top;\n",
       "    }\n",
       "\n",
       "    .dataframe thead th {\n",
       "        text-align: right;\n",
       "    }\n",
       "</style>\n",
       "<table border=\"1\" class=\"dataframe\">\n",
       "  <thead>\n",
       "    <tr style=\"text-align: right;\">\n",
       "      <th></th>\n",
       "      <th>Unnamed: 0</th>\n",
       "      <th>timestamp</th>\n",
       "      <th>UTC time</th>\n",
       "      <th>accuracy</th>\n",
       "      <th>x</th>\n",
       "      <th>y</th>\n",
       "      <th>z</th>\n",
       "    </tr>\n",
       "  </thead>\n",
       "  <tbody>\n",
       "    <tr>\n",
       "      <th>0</th>\n",
       "      <td>24330</td>\n",
       "      <td>1565110306139</td>\n",
       "      <td>2019-08-06T16:51:46.139</td>\n",
       "      <td>unknown</td>\n",
       "      <td>0.034286</td>\n",
       "      <td>-1.504456</td>\n",
       "      <td>0.157623</td>\n",
       "    </tr>\n",
       "    <tr>\n",
       "      <th>1</th>\n",
       "      <td>24331</td>\n",
       "      <td>1565110306239</td>\n",
       "      <td>2019-08-06T16:51:46.239</td>\n",
       "      <td>unknown</td>\n",
       "      <td>0.409164</td>\n",
       "      <td>-1.038544</td>\n",
       "      <td>0.030975</td>\n",
       "    </tr>\n",
       "    <tr>\n",
       "      <th>2</th>\n",
       "      <td>24332</td>\n",
       "      <td>1565110306340</td>\n",
       "      <td>2019-08-06T16:51:46.340</td>\n",
       "      <td>unknown</td>\n",
       "      <td>-0.234390</td>\n",
       "      <td>-0.984558</td>\n",
       "      <td>0.124771</td>\n",
       "    </tr>\n",
       "    <tr>\n",
       "      <th>3</th>\n",
       "      <td>24333</td>\n",
       "      <td>1565110306440</td>\n",
       "      <td>2019-08-06T16:51:46.440</td>\n",
       "      <td>unknown</td>\n",
       "      <td>0.251114</td>\n",
       "      <td>-0.787003</td>\n",
       "      <td>0.054810</td>\n",
       "    </tr>\n",
       "    <tr>\n",
       "      <th>4</th>\n",
       "      <td>24334</td>\n",
       "      <td>1565110306540</td>\n",
       "      <td>2019-08-06T16:51:46.540</td>\n",
       "      <td>unknown</td>\n",
       "      <td>0.109924</td>\n",
       "      <td>-0.169510</td>\n",
       "      <td>0.235550</td>\n",
       "    </tr>\n",
       "  </tbody>\n",
       "</table>\n",
       "</div>"
      ],
      "text/plain": [
       "   Unnamed: 0      timestamp                 UTC time accuracy         x  \\\n",
       "0       24330  1565110306139  2019-08-06T16:51:46.139  unknown  0.034286   \n",
       "1       24331  1565110306239  2019-08-06T16:51:46.239  unknown  0.409164   \n",
       "2       24332  1565110306340  2019-08-06T16:51:46.340  unknown -0.234390   \n",
       "3       24333  1565110306440  2019-08-06T16:51:46.440  unknown  0.251114   \n",
       "4       24334  1565110306540  2019-08-06T16:51:46.540  unknown  0.109924   \n",
       "\n",
       "          y         z  \n",
       "0 -1.504456  0.157623  \n",
       "1 -1.038544  0.030975  \n",
       "2 -0.984558  0.124771  \n",
       "3 -0.787003  0.054810  \n",
       "4 -0.169510  0.235550  "
      ]
     },
     "execution_count": 5,
     "metadata": {},
     "output_type": "execute_result"
    }
   ],
   "source": [
    "test_time_series.head()"
   ]
  },
  {
   "cell_type": "code",
   "execution_count": 6,
   "metadata": {},
   "outputs": [
    {
     "data": {
      "text/html": [
       "<div>\n",
       "<style scoped>\n",
       "    .dataframe tbody tr th:only-of-type {\n",
       "        vertical-align: middle;\n",
       "    }\n",
       "\n",
       "    .dataframe tbody tr th {\n",
       "        vertical-align: top;\n",
       "    }\n",
       "\n",
       "    .dataframe thead th {\n",
       "        text-align: right;\n",
       "    }\n",
       "</style>\n",
       "<table border=\"1\" class=\"dataframe\">\n",
       "  <thead>\n",
       "    <tr style=\"text-align: right;\">\n",
       "      <th></th>\n",
       "      <th>Unnamed: 0</th>\n",
       "      <th>timestamp</th>\n",
       "      <th>UTC time</th>\n",
       "      <th>label</th>\n",
       "    </tr>\n",
       "  </thead>\n",
       "  <tbody>\n",
       "    <tr>\n",
       "      <th>0</th>\n",
       "      <td>24339</td>\n",
       "      <td>1565110307041</td>\n",
       "      <td>2019-08-06T16:51:47.041</td>\n",
       "      <td>NaN</td>\n",
       "    </tr>\n",
       "    <tr>\n",
       "      <th>1</th>\n",
       "      <td>24349</td>\n",
       "      <td>1565110308043</td>\n",
       "      <td>2019-08-06T16:51:48.043</td>\n",
       "      <td>NaN</td>\n",
       "    </tr>\n",
       "    <tr>\n",
       "      <th>2</th>\n",
       "      <td>24359</td>\n",
       "      <td>1565110309046</td>\n",
       "      <td>2019-08-06T16:51:49.046</td>\n",
       "      <td>NaN</td>\n",
       "    </tr>\n",
       "    <tr>\n",
       "      <th>3</th>\n",
       "      <td>24369</td>\n",
       "      <td>1565110310048</td>\n",
       "      <td>2019-08-06T16:51:50.048</td>\n",
       "      <td>NaN</td>\n",
       "    </tr>\n",
       "    <tr>\n",
       "      <th>4</th>\n",
       "      <td>24379</td>\n",
       "      <td>1565110311050</td>\n",
       "      <td>2019-08-06T16:51:51.050</td>\n",
       "      <td>NaN</td>\n",
       "    </tr>\n",
       "  </tbody>\n",
       "</table>\n",
       "</div>"
      ],
      "text/plain": [
       "   Unnamed: 0      timestamp                 UTC time  label\n",
       "0       24339  1565110307041  2019-08-06T16:51:47.041    NaN\n",
       "1       24349  1565110308043  2019-08-06T16:51:48.043    NaN\n",
       "2       24359  1565110309046  2019-08-06T16:51:49.046    NaN\n",
       "3       24369  1565110310048  2019-08-06T16:51:50.048    NaN\n",
       "4       24379  1565110311050  2019-08-06T16:51:51.050    NaN"
      ]
     },
     "execution_count": 6,
     "metadata": {},
     "output_type": "execute_result"
    }
   ],
   "source": [
    "test_labels.head()"
   ]
  },
  {
   "cell_type": "markdown",
   "metadata": {},
   "source": [
    "They are, in fact, the same kind of dataframe that the training ones. The only difference reside in the \"label\" column in `test_labels`, which is empty. We will try to predict the label corresponding to each timestamp in `test_labels` based on the accelerometer data in `test_time_series` using a predictive model built and trained with `train_time_series`and `train_labels` datasets.\n",
    "\n",
    "As it happens in the training dataframes, testing dataframes are not the same size, so we will have to deal with it as well."
   ]
  },
  {
   "cell_type": "code",
   "execution_count": 7,
   "metadata": {},
   "outputs": [
    {
     "name": "stdout",
     "output_type": "stream",
     "text": [
      "The test_time_series dataframe shape is:  (1250, 7) \n",
      " The test_labels dataframe shape is:  (125, 4)\n"
     ]
    }
   ],
   "source": [
    "print(\"The test_time_series dataframe shape is: \",test_time_series.shape ,\"\\n\",\n",
    "      \n",
    "      \"The test_labels dataframe shape is: \",test_labels.shape)"
   ]
  },
  {
   "cell_type": "markdown",
   "metadata": {},
   "source": [
    "We've done reading and understanding our data. We will now plot and visualize some of it in order to decide which data treatament we should do:\n",
    "\n",
    "Let's plot, for instance, the \"x\" data of `train_time_times` vs time:"
   ]
  },
  {
   "cell_type": "code",
   "execution_count": 8,
   "metadata": {},
   "outputs": [
    {
     "data": {
      "text/plain": [
       "Text(0, 0.5, 'x acceleration')"
      ]
     },
     "execution_count": 8,
     "metadata": {},
     "output_type": "execute_result"
    },
    {
     "data": {
      "image/png": "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\n",
      "text/plain": [
       "<Figure size 432x288 with 1 Axes>"
      ]
     },
     "metadata": {
      "needs_background": "light"
     },
     "output_type": "display_data"
    }
   ],
   "source": [
    "import matplotlib.pyplot as plt\n",
    "\n",
    "plt.plot(train_time_series[\"timestamp\"],train_time_series[\"x\"]) #We plot the \"x\" column vs the timestamp one\n",
    "\n",
    "plt.title(\"Raw data visualization\",size=15)\n",
    "plt.xlabel(\"Time\",size=13)\n",
    "plt.ylabel(\"x acceleration\", size=13)"
   ]
  },
  {
   "cell_type": "markdown",
   "metadata": {},
   "source": [
    "We can see that there is a lot of noise in our data, which would supose a problem for any \"Machine Learning\" method we may use. In section 2, we will try to smooth the samples to make the data a bit more treatable. "
   ]
  },
  {
   "cell_type": "markdown",
   "metadata": {},
   "source": [
    "Let's take a look at the training labels to see how they change in time:"
   ]
  },
  {
   "cell_type": "code",
   "execution_count": 9,
   "metadata": {},
   "outputs": [
    {
     "data": {
      "text/plain": [
       "Text(0, 0.5, 'Physical activity label')"
      ]
     },
     "execution_count": 9,
     "metadata": {},
     "output_type": "execute_result"
    },
    {
     "data": {
      "image/png": "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\n",
      "text/plain": [
       "<Figure size 432x288 with 1 Axes>"
      ]
     },
     "metadata": {
      "needs_background": "light"
     },
     "output_type": "display_data"
    }
   ],
   "source": [
    "plt.plot(train_labels[\"timestamp\"],train_labels[\"label\"],\"r-\") #We plot the labels column vs the timestamps one\n",
    "\n",
    "plt.title(\"Labels visualization\",size=15)\n",
    "plt.xlabel(\"Time\",size=13)\n",
    "plt.ylabel(\"Physical activity label\", size=13)\n"
   ]
  },
  {
   "cell_type": "markdown",
   "metadata": {},
   "source": [
    "We can see that the kind of activity changes in time in a way it is easy to recognize the time intervals corresponding to each label. There is no unexpected \"jumps\" or similar data noise so we won't have to change the way this data is displayed when we use it.\n",
    "\n",
    "We can also notice that the activity which is carried out the most is the second one (walking), but let's print the amount of samples corresponding to each label in `train_labels` anyways:"
   ]
  },
  {
   "cell_type": "code",
   "execution_count": 10,
   "metadata": {},
   "outputs": [
    {
     "data": {
      "text/plain": [
       "2    213\n",
       "3     88\n",
       "4     47\n",
       "1     27\n",
       "Name: label, dtype: int64"
      ]
     },
     "execution_count": 10,
     "metadata": {},
     "output_type": "execute_result"
    }
   ],
   "source": [
    "train_labels.label.value_counts() #Value counts in label column"
   ]
  },
  {
   "cell_type": "markdown",
   "metadata": {},
   "source": [
    "Almost 57% of the time in the dataset the person is walking (label=2), which leaves a very small percentage for the other activities and will make the model a bad predictor for these ones."
   ]
  },
  {
   "cell_type": "markdown",
   "metadata": {},
   "source": [
    "Let's check the time that passes between the first sample and the last one, looking at the UTC Time:"
   ]
  },
  {
   "cell_type": "code",
   "execution_count": 11,
   "metadata": {},
   "outputs": [
    {
     "name": "stdout",
     "output_type": "stream",
     "text": [
      "Start time:  2019-08-06T16:45:31.087 \n",
      " End time:  2019-08-06T16:51:46.039\n"
     ]
    }
   ],
   "source": [
    "print(\"Start time: \",train_labels[\"UTC time\"][0],\"\\n\",\n",
    "     \"End time: \",train_labels[\"UTC time\"][len(train_labels)-1])"
   ]
  },
  {
   "cell_type": "markdown",
   "metadata": {},
   "source": [
    "That time is about 6 minutes, as we can see. This time is really short for the few samples we have on the activities labeled 1,3,4, so we can expect that our model will not predict those kind of activities with a great accuracy.\n"
   ]
  },
  {
   "cell_type": "markdown",
   "metadata": {},
   "source": [
    "## 2. Methods"
   ]
  },
  {
   "cell_type": "markdown",
   "metadata": {},
   "source": [
    "### 2.1. Data setting and cleaning\n"
   ]
  },
  {
   "cell_type": "markdown",
   "metadata": {},
   "source": [
    "Our first goal in this part is to add a column to `train_time_series` with the corresponding label to each timestamp. As `train_time_series`and `train_labels` have different shapes, we will first extract a dictionary `times_step` from `train_labels` with the corresponding timestamps where a change in the activity (change in label) ocurrs as keys, and the activity after the change as values:\n"
   ]
  },
  {
   "cell_type": "code",
   "execution_count": 12,
   "metadata": {},
   "outputs": [
    {
     "name": "stdout",
     "output_type": "stream",
     "text": [
      "{1565109931087: 1, 1565109940108: 2, 1565110028310: 4, 1565110065487: 1, 1565110083529: 3, 1565110117607: 2, 1565110165717: 3, 1565110219841: 2, 1565110297018: 4}\n"
     ]
    }
   ],
   "source": [
    "import numpy as np\n",
    "\n",
    "times_step={} #We declare times_step as an empty dictionary\n",
    "\n",
    "#Create an array which contains all labels in train_labels \"label\" column:\n",
    "\n",
    "labels=np.array(train_labels[\"label\"])\n",
    "\n",
    "#Fill the dictionary\n",
    "\n",
    "k=0 #this variable will keep track of the last label change\n",
    "\n",
    "for i in range(len(train_labels)): #we loop over train_labels and store the timestamp at which \n",
    "    if train_labels[\"label\"][i] != k: #the label in the \"label\" column happens to change\n",
    "        times_step[train_labels[\"timestamp\"][i]]=train_labels[\"label\"][i]\n",
    "        k=train_labels[\"label\"][i]\n",
    "        \n",
    "print(times_step)"
   ]
  },
  {
   "cell_type": "markdown",
   "metadata": {},
   "source": [
    "And now we create a column in `train_time_series` with the kind of activity done at each timestep. As `train_time_series` has more timesteps than `train_labels`, we use the time intervals that `times_step` provides us and we will asume that every timestep in `train_time_series` contained in one of these intervals correspond to the label attached to the begining of the time interval.\n",
    "\n",
    "For example, if the `train_time_series` timestamp is in between 1565109940108 and 1565110028310 (2nd and 3rd keys in `times_step`), the label for that timestamp would be 2."
   ]
  },
  {
   "cell_type": "code",
   "execution_count": 13,
   "metadata": {},
   "outputs": [
    {
     "data": {
      "text/html": [
       "<div>\n",
       "<style scoped>\n",
       "    .dataframe tbody tr th:only-of-type {\n",
       "        vertical-align: middle;\n",
       "    }\n",
       "\n",
       "    .dataframe tbody tr th {\n",
       "        vertical-align: top;\n",
       "    }\n",
       "\n",
       "    .dataframe thead th {\n",
       "        text-align: right;\n",
       "    }\n",
       "</style>\n",
       "<table border=\"1\" class=\"dataframe\">\n",
       "  <thead>\n",
       "    <tr style=\"text-align: right;\">\n",
       "      <th></th>\n",
       "      <th>Unnamed: 0</th>\n",
       "      <th>timestamp</th>\n",
       "      <th>UTC time</th>\n",
       "      <th>accuracy</th>\n",
       "      <th>x</th>\n",
       "      <th>y</th>\n",
       "      <th>z</th>\n",
       "      <th>label</th>\n",
       "    </tr>\n",
       "  </thead>\n",
       "  <tbody>\n",
       "    <tr>\n",
       "      <th>0</th>\n",
       "      <td>20586</td>\n",
       "      <td>1565109930787</td>\n",
       "      <td>2019-08-06T16:45:30.787</td>\n",
       "      <td>unknown</td>\n",
       "      <td>-0.006485</td>\n",
       "      <td>-0.934860</td>\n",
       "      <td>-0.069046</td>\n",
       "      <td>1.0</td>\n",
       "    </tr>\n",
       "    <tr>\n",
       "      <th>1</th>\n",
       "      <td>20587</td>\n",
       "      <td>1565109930887</td>\n",
       "      <td>2019-08-06T16:45:30.887</td>\n",
       "      <td>unknown</td>\n",
       "      <td>-0.066467</td>\n",
       "      <td>-1.015442</td>\n",
       "      <td>0.089554</td>\n",
       "      <td>1.0</td>\n",
       "    </tr>\n",
       "    <tr>\n",
       "      <th>2</th>\n",
       "      <td>20588</td>\n",
       "      <td>1565109930987</td>\n",
       "      <td>2019-08-06T16:45:30.987</td>\n",
       "      <td>unknown</td>\n",
       "      <td>-0.043488</td>\n",
       "      <td>-1.021255</td>\n",
       "      <td>0.178467</td>\n",
       "      <td>1.0</td>\n",
       "    </tr>\n",
       "    <tr>\n",
       "      <th>3</th>\n",
       "      <td>20589</td>\n",
       "      <td>1565109931087</td>\n",
       "      <td>2019-08-06T16:45:31.087</td>\n",
       "      <td>unknown</td>\n",
       "      <td>-0.053802</td>\n",
       "      <td>-0.987701</td>\n",
       "      <td>0.068985</td>\n",
       "      <td>1.0</td>\n",
       "    </tr>\n",
       "    <tr>\n",
       "      <th>4</th>\n",
       "      <td>20590</td>\n",
       "      <td>1565109931188</td>\n",
       "      <td>2019-08-06T16:45:31.188</td>\n",
       "      <td>unknown</td>\n",
       "      <td>-0.054031</td>\n",
       "      <td>-1.003616</td>\n",
       "      <td>0.126450</td>\n",
       "      <td>1.0</td>\n",
       "    </tr>\n",
       "    <tr>\n",
       "      <th>...</th>\n",
       "      <td>...</td>\n",
       "      <td>...</td>\n",
       "      <td>...</td>\n",
       "      <td>...</td>\n",
       "      <td>...</td>\n",
       "      <td>...</td>\n",
       "      <td>...</td>\n",
       "      <td>...</td>\n",
       "    </tr>\n",
       "    <tr>\n",
       "      <th>3739</th>\n",
       "      <td>24325</td>\n",
       "      <td>1565110305638</td>\n",
       "      <td>2019-08-06T16:51:45.638</td>\n",
       "      <td>unknown</td>\n",
       "      <td>0.024384</td>\n",
       "      <td>-0.710709</td>\n",
       "      <td>0.030304</td>\n",
       "      <td>4.0</td>\n",
       "    </tr>\n",
       "    <tr>\n",
       "      <th>3740</th>\n",
       "      <td>24326</td>\n",
       "      <td>1565110305738</td>\n",
       "      <td>2019-08-06T16:51:45.738</td>\n",
       "      <td>unknown</td>\n",
       "      <td>0.487228</td>\n",
       "      <td>-1.099136</td>\n",
       "      <td>-0.015213</td>\n",
       "      <td>4.0</td>\n",
       "    </tr>\n",
       "    <tr>\n",
       "      <th>3741</th>\n",
       "      <td>24327</td>\n",
       "      <td>1565110305838</td>\n",
       "      <td>2019-08-06T16:51:45.838</td>\n",
       "      <td>unknown</td>\n",
       "      <td>0.369446</td>\n",
       "      <td>-0.968506</td>\n",
       "      <td>0.036713</td>\n",
       "      <td>4.0</td>\n",
       "    </tr>\n",
       "    <tr>\n",
       "      <th>3742</th>\n",
       "      <td>24328</td>\n",
       "      <td>1565110305939</td>\n",
       "      <td>2019-08-06T16:51:45.939</td>\n",
       "      <td>unknown</td>\n",
       "      <td>0.167877</td>\n",
       "      <td>-0.802826</td>\n",
       "      <td>0.049805</td>\n",
       "      <td>4.0</td>\n",
       "    </tr>\n",
       "    <tr>\n",
       "      <th>3743</th>\n",
       "      <td>24329</td>\n",
       "      <td>1565110306039</td>\n",
       "      <td>2019-08-06T16:51:46.039</td>\n",
       "      <td>unknown</td>\n",
       "      <td>0.689346</td>\n",
       "      <td>-0.991043</td>\n",
       "      <td>0.034973</td>\n",
       "      <td>4.0</td>\n",
       "    </tr>\n",
       "  </tbody>\n",
       "</table>\n",
       "<p>3744 rows × 8 columns</p>\n",
       "</div>"
      ],
      "text/plain": [
       "      Unnamed: 0      timestamp                 UTC time accuracy         x  \\\n",
       "0          20586  1565109930787  2019-08-06T16:45:30.787  unknown -0.006485   \n",
       "1          20587  1565109930887  2019-08-06T16:45:30.887  unknown -0.066467   \n",
       "2          20588  1565109930987  2019-08-06T16:45:30.987  unknown -0.043488   \n",
       "3          20589  1565109931087  2019-08-06T16:45:31.087  unknown -0.053802   \n",
       "4          20590  1565109931188  2019-08-06T16:45:31.188  unknown -0.054031   \n",
       "...          ...            ...                      ...      ...       ...   \n",
       "3739       24325  1565110305638  2019-08-06T16:51:45.638  unknown  0.024384   \n",
       "3740       24326  1565110305738  2019-08-06T16:51:45.738  unknown  0.487228   \n",
       "3741       24327  1565110305838  2019-08-06T16:51:45.838  unknown  0.369446   \n",
       "3742       24328  1565110305939  2019-08-06T16:51:45.939  unknown  0.167877   \n",
       "3743       24329  1565110306039  2019-08-06T16:51:46.039  unknown  0.689346   \n",
       "\n",
       "             y         z  label  \n",
       "0    -0.934860 -0.069046    1.0  \n",
       "1    -1.015442  0.089554    1.0  \n",
       "2    -1.021255  0.178467    1.0  \n",
       "3    -0.987701  0.068985    1.0  \n",
       "4    -1.003616  0.126450    1.0  \n",
       "...        ...       ...    ...  \n",
       "3739 -0.710709  0.030304    4.0  \n",
       "3740 -1.099136 -0.015213    4.0  \n",
       "3741 -0.968506  0.036713    4.0  \n",
       "3742 -0.802826  0.049805    4.0  \n",
       "3743 -0.991043  0.034973    4.0  \n",
       "\n",
       "[3744 rows x 8 columns]"
      ]
     },
     "execution_count": 13,
     "metadata": {},
     "output_type": "execute_result"
    }
   ],
   "source": [
    "#We first create the \"label\" column in train_time_series filled with zeros.\n",
    "train_time_series[\"label\"]=np.zeros(len(train_time_series))\n",
    "\n",
    "h=1\n",
    "for i in range(len(train_time_series)):\n",
    "    \n",
    "    #if the timestamp value is less than the next label change time, the label will be the latter.\n",
    "    if train_time_series[\"timestamp\"][i] < list(times_step.keys())[h]:\n",
    "        train_time_series[\"label\"][i] = list(times_step.values())[h-1]\n",
    "    \n",
    "    #If not and we have not reached the final interval, we update the label value after the change    \n",
    "    elif h+1<len(times_step):\n",
    "        h+=1\n",
    "        train_time_series[\"label\"][i] = list(times_step.values())[h-1]\n",
    "     #If we reached the final interval, all remaining timestamps will have the latter label   \n",
    "    else:\n",
    "        train_time_series[\"label\"][i] = list(times_step.values())[h]\n",
    "        \n",
    "train_time_series"
   ]
  },
  {
   "cell_type": "markdown",
   "metadata": {},
   "source": [
    "We have now a \"label\" column in `train_time_series` dataframe."
   ]
  },
  {
   "cell_type": "markdown",
   "metadata": {},
   "source": [
    "Let's now deal with the data noise and the shape difference between train dataframes. \n",
    "\n",
    "First thing to notice is that the first timestamp in `train_labels` correspond to the fourth timestamp in `train_time_series` so we are going to erase the first tree rows in the latter:\n"
   ]
  },
  {
   "cell_type": "code",
   "execution_count": 14,
   "metadata": {},
   "outputs": [],
   "source": [
    "#We drop the first 3 rows out. I know it can be done in just a line of code but Jupyter gave me \n",
    "#some problems with that so I decided not take the risk.\n",
    "\n",
    "train_time_series=train_time_series.drop([0])\n",
    "train_time_series=train_time_series.drop([1])\n",
    "train_time_series=train_time_series.drop([2])\n"
   ]
  },
  {
   "cell_type": "code",
   "execution_count": 15,
   "metadata": {},
   "outputs": [],
   "source": [
    "train_time_series=train_time_series.reset_index() #We set the indices to begin at 0 again"
   ]
  },
  {
   "cell_type": "markdown",
   "metadata": {},
   "source": [
    "In order to reduce the dimensions of `train_time_series` so it matches the shape of `train_labels` we are going to take every 10th timestamp in `train_time_series` and substitute the \"x\", \"y\" and \"z\" values for the mean of the four previous values, the four next values and itself. That way we will reduce a bit the noise in the data. Then, we are going to take 1 out of ten rows in the dataframe and erase the rest so it has the same rows with the same timestamps than `train_labels`:"
   ]
  },
  {
   "cell_type": "code",
   "execution_count": 16,
   "metadata": {},
   "outputs": [],
   "source": [
    "for i in range(len(train_time_series)):\n",
    "    #for the first element, we take only the four following values and itself to compute the mean.\n",
    "    if i==0:\n",
    "        train_time_series[\"x\"][i]=np.mean([ train_time_series[\"x\"][i], train_time_series[\"x\"][i+1],train_time_series[\"x\"][i+2],train_time_series[\"x\"][i+3],train_time_series[\"x\"][i+4]])\n",
    "        train_time_series[\"y\"][i]=np.mean([ train_time_series[\"y\"][i], train_time_series[\"y\"][i+1],train_time_series[\"y\"][i+2],train_time_series[\"y\"][i+3],train_time_series[\"y\"][i+4]])\n",
    "        train_time_series[\"z\"][i]=np.mean([ train_time_series[\"z\"][i], train_time_series[\"z\"][i+1],train_time_series[\"z\"][i+2],train_time_series[\"z\"][i+3],train_time_series[\"z\"][i+4]])\n",
    "    elif i%10 == 0 and i!=3740:\n",
    "        train_time_series[\"x\"][i]=np.mean([ train_time_series[\"x\"][i-4],train_time_series[\"x\"][i-3],train_time_series[\"x\"][i-2],train_time_series[\"x\"][i-1],train_time_series[\"x\"][i], train_time_series[\"x\"][i+1],train_time_series[\"x\"][i+2],train_time_series[\"x\"][i+3],train_time_series[\"x\"][i+4]])\n",
    "        train_time_series[\"y\"][i]=np.mean([ train_time_series[\"y\"][i-4],train_time_series[\"y\"][i-3],train_time_series[\"y\"][i-2],train_time_series[\"y\"][i-1],train_time_series[\"y\"][i], train_time_series[\"y\"][i+1],train_time_series[\"y\"][i+2],train_time_series[\"y\"][i+3],train_time_series[\"y\"][i+4]])\n",
    "        train_time_series[\"z\"][i]=np.mean([ train_time_series[\"z\"][i-4],train_time_series[\"z\"][i-3],train_time_series[\"z\"][i-2],train_time_series[\"z\"][i-1],train_time_series[\"z\"][i], train_time_series[\"z\"][i+1],train_time_series[\"z\"][i+2],train_time_series[\"z\"][i+3],train_time_series[\"z\"][i+4]])\n",
    "    #for the last element, we take only the four previous values and itself to compute the mean.\n",
    "    elif i==3740:\n",
    "        train_time_series[\"x\"][i]=np.mean([ train_time_series[\"x\"][i-4],train_time_series[\"x\"][i-3],train_time_series[\"x\"][i-2],train_time_series[\"x\"][i-1],train_time_series[\"x\"][i]])\n",
    "        train_time_series[\"y\"][i]=np.mean([ train_time_series[\"y\"][i-4],train_time_series[\"y\"][i-3],train_time_series[\"y\"][i-2],train_time_series[\"y\"][i-1],train_time_series[\"y\"][i]])\n",
    "        train_time_series[\"z\"][i]=np.mean([ train_time_series[\"z\"][i-4],train_time_series[\"z\"][i-3],train_time_series[\"z\"][i-2],train_time_series[\"z\"][i-1],train_time_series[\"z\"][i]])\n",
    "        \n"
   ]
  },
  {
   "cell_type": "code",
   "execution_count": 17,
   "metadata": {},
   "outputs": [],
   "source": [
    "#We remove rows and leave only 1 out of 10:\n",
    "\n",
    "for i in range(len(train_time_series)):\n",
    "    if i!=0 and i%10 != 0:\n",
    "        train_time_series=train_time_series.drop([i])    "
   ]
  },
  {
   "cell_type": "markdown",
   "metadata": {},
   "source": [
    "Now both dataframes have the same length:"
   ]
  },
  {
   "cell_type": "code",
   "execution_count": 18,
   "metadata": {},
   "outputs": [
    {
     "name": "stdout",
     "output_type": "stream",
     "text": [
      "The train_time_series dataframe shape is:  (375, 9) \n",
      " The train_labels dataframe shape is:  (375, 4)\n"
     ]
    }
   ],
   "source": [
    "print(\"The train_time_series dataframe shape is: \",train_time_series.shape ,\"\\n\",\n",
    "      \n",
    "      \"The train_labels dataframe shape is: \",train_labels.shape)"
   ]
  },
  {
   "cell_type": "markdown",
   "metadata": {},
   "source": [
    "Let's check that both dataframes have now the same \"timestamp\" column: "
   ]
  },
  {
   "cell_type": "code",
   "execution_count": 19,
   "metadata": {},
   "outputs": [
    {
     "data": {
      "text/html": [
       "<div>\n",
       "<style scoped>\n",
       "    .dataframe tbody tr th:only-of-type {\n",
       "        vertical-align: middle;\n",
       "    }\n",
       "\n",
       "    .dataframe tbody tr th {\n",
       "        vertical-align: top;\n",
       "    }\n",
       "\n",
       "    .dataframe thead th {\n",
       "        text-align: right;\n",
       "    }\n",
       "</style>\n",
       "<table border=\"1\" class=\"dataframe\">\n",
       "  <thead>\n",
       "    <tr style=\"text-align: right;\">\n",
       "      <th></th>\n",
       "      <th>index</th>\n",
       "      <th>Unnamed: 0</th>\n",
       "      <th>timestamp</th>\n",
       "      <th>UTC time</th>\n",
       "      <th>accuracy</th>\n",
       "      <th>x</th>\n",
       "      <th>y</th>\n",
       "      <th>z</th>\n",
       "      <th>label</th>\n",
       "    </tr>\n",
       "  </thead>\n",
       "  <tbody>\n",
       "    <tr>\n",
       "      <th>0</th>\n",
       "      <td>3</td>\n",
       "      <td>20589</td>\n",
       "      <td>1565109931087</td>\n",
       "      <td>2019-08-06T16:45:31.087</td>\n",
       "      <td>unknown</td>\n",
       "      <td>-0.006580</td>\n",
       "      <td>-0.998886</td>\n",
       "      <td>0.171722</td>\n",
       "      <td>1.0</td>\n",
       "    </tr>\n",
       "    <tr>\n",
       "      <th>10</th>\n",
       "      <td>13</td>\n",
       "      <td>20599</td>\n",
       "      <td>1565109932090</td>\n",
       "      <td>2019-08-06T16:45:32.090</td>\n",
       "      <td>unknown</td>\n",
       "      <td>0.014123</td>\n",
       "      <td>-0.972300</td>\n",
       "      <td>0.069845</td>\n",
       "      <td>1.0</td>\n",
       "    </tr>\n",
       "    <tr>\n",
       "      <th>20</th>\n",
       "      <td>23</td>\n",
       "      <td>20609</td>\n",
       "      <td>1565109933092</td>\n",
       "      <td>2019-08-06T16:45:33.092</td>\n",
       "      <td>unknown</td>\n",
       "      <td>0.083605</td>\n",
       "      <td>-1.008720</td>\n",
       "      <td>-0.040146</td>\n",
       "      <td>1.0</td>\n",
       "    </tr>\n",
       "    <tr>\n",
       "      <th>30</th>\n",
       "      <td>33</td>\n",
       "      <td>20619</td>\n",
       "      <td>1565109934094</td>\n",
       "      <td>2019-08-06T16:45:34.094</td>\n",
       "      <td>unknown</td>\n",
       "      <td>-0.016961</td>\n",
       "      <td>-0.991038</td>\n",
       "      <td>0.181780</td>\n",
       "      <td>1.0</td>\n",
       "    </tr>\n",
       "    <tr>\n",
       "      <th>40</th>\n",
       "      <td>43</td>\n",
       "      <td>20629</td>\n",
       "      <td>1565109935097</td>\n",
       "      <td>2019-08-06T16:45:35.097</td>\n",
       "      <td>unknown</td>\n",
       "      <td>0.050057</td>\n",
       "      <td>-1.003703</td>\n",
       "      <td>-0.038357</td>\n",
       "      <td>1.0</td>\n",
       "    </tr>\n",
       "  </tbody>\n",
       "</table>\n",
       "</div>"
      ],
      "text/plain": [
       "    index  Unnamed: 0      timestamp                 UTC time accuracy  \\\n",
       "0       3       20589  1565109931087  2019-08-06T16:45:31.087  unknown   \n",
       "10     13       20599  1565109932090  2019-08-06T16:45:32.090  unknown   \n",
       "20     23       20609  1565109933092  2019-08-06T16:45:33.092  unknown   \n",
       "30     33       20619  1565109934094  2019-08-06T16:45:34.094  unknown   \n",
       "40     43       20629  1565109935097  2019-08-06T16:45:35.097  unknown   \n",
       "\n",
       "           x         y         z  label  \n",
       "0  -0.006580 -0.998886  0.171722    1.0  \n",
       "10  0.014123 -0.972300  0.069845    1.0  \n",
       "20  0.083605 -1.008720 -0.040146    1.0  \n",
       "30 -0.016961 -0.991038  0.181780    1.0  \n",
       "40  0.050057 -1.003703 -0.038357    1.0  "
      ]
     },
     "execution_count": 19,
     "metadata": {},
     "output_type": "execute_result"
    }
   ],
   "source": [
    "train_time_series.head()"
   ]
  },
  {
   "cell_type": "code",
   "execution_count": 20,
   "metadata": {},
   "outputs": [
    {
     "data": {
      "text/html": [
       "<div>\n",
       "<style scoped>\n",
       "    .dataframe tbody tr th:only-of-type {\n",
       "        vertical-align: middle;\n",
       "    }\n",
       "\n",
       "    .dataframe tbody tr th {\n",
       "        vertical-align: top;\n",
       "    }\n",
       "\n",
       "    .dataframe thead th {\n",
       "        text-align: right;\n",
       "    }\n",
       "</style>\n",
       "<table border=\"1\" class=\"dataframe\">\n",
       "  <thead>\n",
       "    <tr style=\"text-align: right;\">\n",
       "      <th></th>\n",
       "      <th>Unnamed: 0</th>\n",
       "      <th>timestamp</th>\n",
       "      <th>UTC time</th>\n",
       "      <th>label</th>\n",
       "    </tr>\n",
       "  </thead>\n",
       "  <tbody>\n",
       "    <tr>\n",
       "      <th>0</th>\n",
       "      <td>20589</td>\n",
       "      <td>1565109931087</td>\n",
       "      <td>2019-08-06T16:45:31.087</td>\n",
       "      <td>1</td>\n",
       "    </tr>\n",
       "    <tr>\n",
       "      <th>1</th>\n",
       "      <td>20599</td>\n",
       "      <td>1565109932090</td>\n",
       "      <td>2019-08-06T16:45:32.090</td>\n",
       "      <td>1</td>\n",
       "    </tr>\n",
       "    <tr>\n",
       "      <th>2</th>\n",
       "      <td>20609</td>\n",
       "      <td>1565109933092</td>\n",
       "      <td>2019-08-06T16:45:33.092</td>\n",
       "      <td>1</td>\n",
       "    </tr>\n",
       "    <tr>\n",
       "      <th>3</th>\n",
       "      <td>20619</td>\n",
       "      <td>1565109934094</td>\n",
       "      <td>2019-08-06T16:45:34.094</td>\n",
       "      <td>1</td>\n",
       "    </tr>\n",
       "    <tr>\n",
       "      <th>4</th>\n",
       "      <td>20629</td>\n",
       "      <td>1565109935097</td>\n",
       "      <td>2019-08-06T16:45:35.097</td>\n",
       "      <td>1</td>\n",
       "    </tr>\n",
       "  </tbody>\n",
       "</table>\n",
       "</div>"
      ],
      "text/plain": [
       "   Unnamed: 0      timestamp                 UTC time  label\n",
       "0       20589  1565109931087  2019-08-06T16:45:31.087      1\n",
       "1       20599  1565109932090  2019-08-06T16:45:32.090      1\n",
       "2       20609  1565109933092  2019-08-06T16:45:33.092      1\n",
       "3       20619  1565109934094  2019-08-06T16:45:34.094      1\n",
       "4       20629  1565109935097  2019-08-06T16:45:35.097      1"
      ]
     },
     "execution_count": 20,
     "metadata": {},
     "output_type": "execute_result"
    }
   ],
   "source": [
    "train_labels.head()"
   ]
  },
  {
   "cell_type": "markdown",
   "metadata": {},
   "source": [
    "If we now plot \"x\" acceleration values vs time we will se that we have now a way more treatable data:\n"
   ]
  },
  {
   "cell_type": "code",
   "execution_count": 21,
   "metadata": {},
   "outputs": [
    {
     "data": {
      "text/plain": [
       "Text(0, 0.5, 'x acceleration')"
      ]
     },
     "execution_count": 21,
     "metadata": {},
     "output_type": "execute_result"
    },
    {
     "data": {
      "image/png": "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\n",
      "text/plain": [
       "<Figure size 432x288 with 1 Axes>"
      ]
     },
     "metadata": {
      "needs_background": "light"
     },
     "output_type": "display_data"
    }
   ],
   "source": [
    "plt.plot(train_time_series[\"timestamp\"],train_time_series[\"x\"]) #We plot the \"x\" column vs the timestamp one\n",
    "\n",
    "plt.title(\"Smoothed data visualization\",size=15)\n",
    "plt.xlabel(\"Time\",size=13)\n",
    "plt.ylabel(\"x acceleration\", size=13)"
   ]
  },
  {
   "cell_type": "markdown",
   "metadata": {},
   "source": [
    "We will repeat these data cleaning steps for the test dataframes. In this case, we will have to eliminate the first 9 rows of `test_time_series` so the \"timestamp\" column start at the same value than `test_labels`:"
   ]
  },
  {
   "cell_type": "code",
   "execution_count": 22,
   "metadata": {},
   "outputs": [],
   "source": [
    "#We drop the first 9 rows out. Just like before, Jupyter gave me problems if I declare this step in \n",
    "#just a line of code.\n",
    "\n",
    "test_time_series=test_time_series.drop([0])\n",
    "test_time_series=test_time_series.drop([1])\n",
    "test_time_series=test_time_series.drop([2])\n",
    "test_time_series=test_time_series.drop([3])\n",
    "test_time_series=test_time_series.drop([4])\n",
    "test_time_series=test_time_series.drop([5])\n",
    "test_time_series=test_time_series.drop([6])\n",
    "test_time_series=test_time_series.drop([7])\n",
    "test_time_series=test_time_series.drop([8])"
   ]
  },
  {
   "cell_type": "code",
   "execution_count": 23,
   "metadata": {},
   "outputs": [],
   "source": [
    "test_time_series=test_time_series.reset_index() #We set the indices to begin at 0 again"
   ]
  },
  {
   "cell_type": "code",
   "execution_count": 24,
   "metadata": {},
   "outputs": [],
   "source": [
    "\n",
    "for i in range(len(test_time_series)):\n",
    "    if i==0:\n",
    "        test_time_series[\"x\"][i]=np.mean([ test_time_series[\"x\"][i], test_time_series[\"x\"][i+1],test_time_series[\"x\"][i+2],test_time_series[\"x\"][i+3],test_time_series[\"x\"][i+4]])\n",
    "        test_time_series[\"y\"][i]=np.mean([ test_time_series[\"y\"][i], test_time_series[\"y\"][i+1],test_time_series[\"y\"][i+2],test_time_series[\"y\"][i+3],test_time_series[\"y\"][i+4]])\n",
    "        test_time_series[\"z\"][i]=np.mean([ test_time_series[\"z\"][i], test_time_series[\"z\"][i+1],test_time_series[\"z\"][i+2],test_time_series[\"z\"][i+3],test_time_series[\"z\"][i+4]])\n",
    "    elif i%10 == 0 and i!=1240:\n",
    "        test_time_series[\"x\"][i]=np.mean([ test_time_series[\"x\"][i-4],test_time_series[\"x\"][i-3],test_time_series[\"x\"][i-2],test_time_series[\"x\"][i-1],test_time_series[\"x\"][i], test_time_series[\"x\"][i+1],test_time_series[\"x\"][i+2],test_time_series[\"x\"][i+3],test_time_series[\"x\"][i+4]])\n",
    "        test_time_series[\"y\"][i]=np.mean([ test_time_series[\"y\"][i-4],test_time_series[\"y\"][i-3],test_time_series[\"y\"][i-2],test_time_series[\"y\"][i-1],test_time_series[\"y\"][i], test_time_series[\"y\"][i+1],test_time_series[\"y\"][i+2],test_time_series[\"y\"][i+3],test_time_series[\"y\"][i+4]])\n",
    "        test_time_series[\"z\"][i]=np.mean([ test_time_series[\"z\"][i-4],test_time_series[\"z\"][i-3],test_time_series[\"z\"][i-2],test_time_series[\"z\"][i-1],test_time_series[\"z\"][i], test_time_series[\"z\"][i+1],test_time_series[\"z\"][i+2],test_time_series[\"z\"][i+3],test_time_series[\"z\"][i+4]])\n",
    "    elif i==1240:\n",
    "        test_time_series[\"x\"][i]=np.mean([ test_time_series[\"x\"][i-4],test_time_series[\"x\"][i-3],test_time_series[\"x\"][i-2],test_time_series[\"x\"][i-1],test_time_series[\"x\"][i]])\n",
    "        test_time_series[\"y\"][i]=np.mean([ test_time_series[\"y\"][i-4],test_time_series[\"y\"][i-3],test_time_series[\"y\"][i-2],test_time_series[\"y\"][i-1],test_time_series[\"y\"][i]])\n",
    "        test_time_series[\"z\"][i]=np.mean([ test_time_series[\"z\"][i-4],test_time_series[\"z\"][i-3],test_time_series[\"z\"][i-2],test_time_series[\"z\"][i-1],test_time_series[\"z\"][i]])\n",
    "\n",
    "\n",
    "\n",
    "#we take only 1 out of 10 rows again, because the data in test_label has been also measured 1 out of\n",
    "#10 timestamps of test_time_series\n",
    "\n",
    "for i in range(len(test_time_series)):\n",
    "    if i!=0 and i%10 != 0:\n",
    "        test_time_series=test_time_series.drop([i])\n",
    "        "
   ]
  },
  {
   "cell_type": "markdown",
   "metadata": {},
   "source": [
    "Now both test dataframes has the same \"timestamp\":"
   ]
  },
  {
   "cell_type": "code",
   "execution_count": 25,
   "metadata": {},
   "outputs": [
    {
     "data": {
      "text/html": [
       "<div>\n",
       "<style scoped>\n",
       "    .dataframe tbody tr th:only-of-type {\n",
       "        vertical-align: middle;\n",
       "    }\n",
       "\n",
       "    .dataframe tbody tr th {\n",
       "        vertical-align: top;\n",
       "    }\n",
       "\n",
       "    .dataframe thead th {\n",
       "        text-align: right;\n",
       "    }\n",
       "</style>\n",
       "<table border=\"1\" class=\"dataframe\">\n",
       "  <thead>\n",
       "    <tr style=\"text-align: right;\">\n",
       "      <th></th>\n",
       "      <th>index</th>\n",
       "      <th>Unnamed: 0</th>\n",
       "      <th>timestamp</th>\n",
       "      <th>UTC time</th>\n",
       "      <th>accuracy</th>\n",
       "      <th>x</th>\n",
       "      <th>y</th>\n",
       "      <th>z</th>\n",
       "    </tr>\n",
       "  </thead>\n",
       "  <tbody>\n",
       "    <tr>\n",
       "      <th>0</th>\n",
       "      <td>9</td>\n",
       "      <td>24339</td>\n",
       "      <td>1565110307041</td>\n",
       "      <td>2019-08-06T16:51:47.041</td>\n",
       "      <td>unknown</td>\n",
       "      <td>0.233170</td>\n",
       "      <td>-1.126151</td>\n",
       "      <td>0.094260</td>\n",
       "    </tr>\n",
       "    <tr>\n",
       "      <th>10</th>\n",
       "      <td>19</td>\n",
       "      <td>24349</td>\n",
       "      <td>1565110308043</td>\n",
       "      <td>2019-08-06T16:51:48.043</td>\n",
       "      <td>unknown</td>\n",
       "      <td>0.349933</td>\n",
       "      <td>-0.992767</td>\n",
       "      <td>0.119068</td>\n",
       "    </tr>\n",
       "    <tr>\n",
       "      <th>20</th>\n",
       "      <td>29</td>\n",
       "      <td>24359</td>\n",
       "      <td>1565110309046</td>\n",
       "      <td>2019-08-06T16:51:49.046</td>\n",
       "      <td>unknown</td>\n",
       "      <td>0.262855</td>\n",
       "      <td>-0.812015</td>\n",
       "      <td>0.128725</td>\n",
       "    </tr>\n",
       "    <tr>\n",
       "      <th>30</th>\n",
       "      <td>39</td>\n",
       "      <td>24369</td>\n",
       "      <td>1565110310048</td>\n",
       "      <td>2019-08-06T16:51:50.048</td>\n",
       "      <td>unknown</td>\n",
       "      <td>0.208249</td>\n",
       "      <td>-0.930573</td>\n",
       "      <td>0.407996</td>\n",
       "    </tr>\n",
       "    <tr>\n",
       "      <th>40</th>\n",
       "      <td>49</td>\n",
       "      <td>24379</td>\n",
       "      <td>1565110311050</td>\n",
       "      <td>2019-08-06T16:51:51.050</td>\n",
       "      <td>unknown</td>\n",
       "      <td>0.191060</td>\n",
       "      <td>-0.989482</td>\n",
       "      <td>-0.016830</td>\n",
       "    </tr>\n",
       "  </tbody>\n",
       "</table>\n",
       "</div>"
      ],
      "text/plain": [
       "    index  Unnamed: 0      timestamp                 UTC time accuracy  \\\n",
       "0       9       24339  1565110307041  2019-08-06T16:51:47.041  unknown   \n",
       "10     19       24349  1565110308043  2019-08-06T16:51:48.043  unknown   \n",
       "20     29       24359  1565110309046  2019-08-06T16:51:49.046  unknown   \n",
       "30     39       24369  1565110310048  2019-08-06T16:51:50.048  unknown   \n",
       "40     49       24379  1565110311050  2019-08-06T16:51:51.050  unknown   \n",
       "\n",
       "           x         y         z  \n",
       "0   0.233170 -1.126151  0.094260  \n",
       "10  0.349933 -0.992767  0.119068  \n",
       "20  0.262855 -0.812015  0.128725  \n",
       "30  0.208249 -0.930573  0.407996  \n",
       "40  0.191060 -0.989482 -0.016830  "
      ]
     },
     "execution_count": 25,
     "metadata": {},
     "output_type": "execute_result"
    }
   ],
   "source": [
    "test_time_series.head()"
   ]
  },
  {
   "cell_type": "code",
   "execution_count": 26,
   "metadata": {},
   "outputs": [
    {
     "data": {
      "text/html": [
       "<div>\n",
       "<style scoped>\n",
       "    .dataframe tbody tr th:only-of-type {\n",
       "        vertical-align: middle;\n",
       "    }\n",
       "\n",
       "    .dataframe tbody tr th {\n",
       "        vertical-align: top;\n",
       "    }\n",
       "\n",
       "    .dataframe thead th {\n",
       "        text-align: right;\n",
       "    }\n",
       "</style>\n",
       "<table border=\"1\" class=\"dataframe\">\n",
       "  <thead>\n",
       "    <tr style=\"text-align: right;\">\n",
       "      <th></th>\n",
       "      <th>Unnamed: 0</th>\n",
       "      <th>timestamp</th>\n",
       "      <th>UTC time</th>\n",
       "      <th>label</th>\n",
       "    </tr>\n",
       "  </thead>\n",
       "  <tbody>\n",
       "    <tr>\n",
       "      <th>0</th>\n",
       "      <td>24339</td>\n",
       "      <td>1565110307041</td>\n",
       "      <td>2019-08-06T16:51:47.041</td>\n",
       "      <td>NaN</td>\n",
       "    </tr>\n",
       "    <tr>\n",
       "      <th>1</th>\n",
       "      <td>24349</td>\n",
       "      <td>1565110308043</td>\n",
       "      <td>2019-08-06T16:51:48.043</td>\n",
       "      <td>NaN</td>\n",
       "    </tr>\n",
       "    <tr>\n",
       "      <th>2</th>\n",
       "      <td>24359</td>\n",
       "      <td>1565110309046</td>\n",
       "      <td>2019-08-06T16:51:49.046</td>\n",
       "      <td>NaN</td>\n",
       "    </tr>\n",
       "    <tr>\n",
       "      <th>3</th>\n",
       "      <td>24369</td>\n",
       "      <td>1565110310048</td>\n",
       "      <td>2019-08-06T16:51:50.048</td>\n",
       "      <td>NaN</td>\n",
       "    </tr>\n",
       "    <tr>\n",
       "      <th>4</th>\n",
       "      <td>24379</td>\n",
       "      <td>1565110311050</td>\n",
       "      <td>2019-08-06T16:51:51.050</td>\n",
       "      <td>NaN</td>\n",
       "    </tr>\n",
       "  </tbody>\n",
       "</table>\n",
       "</div>"
      ],
      "text/plain": [
       "   Unnamed: 0      timestamp                 UTC time  label\n",
       "0       24339  1565110307041  2019-08-06T16:51:47.041    NaN\n",
       "1       24349  1565110308043  2019-08-06T16:51:48.043    NaN\n",
       "2       24359  1565110309046  2019-08-06T16:51:49.046    NaN\n",
       "3       24369  1565110310048  2019-08-06T16:51:50.048    NaN\n",
       "4       24379  1565110311050  2019-08-06T16:51:51.050    NaN"
      ]
     },
     "execution_count": 26,
     "metadata": {},
     "output_type": "execute_result"
    }
   ],
   "source": [
    "test_labels.head()"
   ]
  },
  {
   "cell_type": "markdown",
   "metadata": {},
   "source": [
    "Our data is ready. Let's make the predictive model."
   ]
  },
  {
   "cell_type": "markdown",
   "metadata": {},
   "source": [
    "## 2.2 Training and fitting\n"
   ]
  },
  {
   "cell_type": "markdown",
   "metadata": {},
   "source": [
    "Our task is a classification problem, so we will use the \"Random Forest\" method which works really well for these kind of assigments. We will use the `RandomForestClassifier()` function that ScikitLearn library provides."
   ]
  },
  {
   "cell_type": "code",
   "execution_count": 27,
   "metadata": {},
   "outputs": [],
   "source": [
    "from sklearn.ensemble import RandomForestClassifier\n",
    "\n",
    "#We call the estimator with a max_depth=5, which has been determined by trial and error.\n",
    "\n",
    "clf = RandomForestClassifier(max_depth=5, random_state=0) "
   ]
  },
  {
   "cell_type": "markdown",
   "metadata": {},
   "source": [
    "We now have to decide which covariates should we use tu fit our model. The features selected for this task are just the new \"x\", \"y\" and \"z\" that we obtain after smoothing our data. I have make this choice due to the following reasons:\n",
    "\n",
    "    -We don't really know which actual spacial directions correspond to each axix, so will avoid\n",
    "    choosing any specific direction or any feature thay may give more importance to a direction\n",
    "    over the others, like an angle or a acceleration module in some of the coordinates planes.\n",
    "    \n",
    "    -An actual good feature would be the mean of each acceleration in some interval because it \n",
    "    cleans out the data and allows the model to identify each kind of activity in a more accurate\n",
    "    way as we reduce the noise in the measurements. Luckily, we have already prepare the data in\n",
    "    this way.\n",
    "    \n",
    "Before we start training our model, let's define the covariates and the classification targets so we can call the `clf.fit()` method: \n",
    "     "
   ]
  },
  {
   "cell_type": "code",
   "execution_count": 28,
   "metadata": {},
   "outputs": [],
   "source": [
    "all_covariates=[\"x\",\"y\",\"z\"] #We define the features we are going to use as predictors\n",
    "covariates = train_time_series[all_covariates]\n",
    "\n",
    "target=train_time_series[\"label\"]#We define the classification target as the label of the activity \n",
    "                                 #corresponding to each x, y and z sample."
   ]
  },
  {
   "cell_type": "markdown",
   "metadata": {},
   "source": [
    "Let's fit the model:"
   ]
  },
  {
   "cell_type": "code",
   "execution_count": 29,
   "metadata": {},
   "outputs": [
    {
     "data": {
      "text/plain": [
       "RandomForestClassifier(bootstrap=True, ccp_alpha=0.0, class_weight=None,\n",
       "                       criterion='gini', max_depth=5, max_features='auto',\n",
       "                       max_leaf_nodes=None, max_samples=None,\n",
       "                       min_impurity_decrease=0.0, min_impurity_split=None,\n",
       "                       min_samples_leaf=1, min_samples_split=2,\n",
       "                       min_weight_fraction_leaf=0.0, n_estimators=100,\n",
       "                       n_jobs=None, oob_score=False, random_state=0, verbose=0,\n",
       "                       warm_start=False)"
      ]
     },
     "execution_count": 29,
     "metadata": {},
     "output_type": "execute_result"
    }
   ],
   "source": [
    "clf.fit(covariates,target)"
   ]
  },
  {
   "cell_type": "markdown",
   "metadata": {},
   "source": [
    "## 3.Results"
   ]
  },
  {
   "cell_type": "markdown",
   "metadata": {},
   "source": [
    "### 3.1. Model accuracy"
   ]
  },
  {
   "cell_type": "markdown",
   "metadata": {},
   "source": [
    "To check the accuracy on the training data we will proceed in the same way that in the last homework assignment of the course: building an accuracy function and then evaluating the score by cross-validation:"
   ]
  },
  {
   "cell_type": "code",
   "execution_count": 30,
   "metadata": {},
   "outputs": [
    {
     "name": "stdout",
     "output_type": "stream",
     "text": [
      "The mean cross-validation score of the model is:  0.9761735419630156\n"
     ]
    }
   ],
   "source": [
    "from sklearn.metrics import accuracy_score\n",
    "from sklearn.model_selection import cross_val_score\n",
    "\n",
    "def accuracy(estimator, X, y): #We create an accuracy function which uses accuracy_score()\n",
    "    predictions = estimator.fit(X, y).predict(X)\n",
    "    return accuracy_score(y, predictions)\n",
    "\n",
    "#Now we evaluate the score by cross_validation with cv=10 and using the previous function\n",
    "\n",
    "model_scores=cross_val_score(clf, covariates, target, cv=10, scoring=accuracy)\n",
    "\n",
    "print(\"The mean cross-validation score of the model is: \",np.mean(model_scores))\n",
    "\n"
   ]
  },
  {
   "cell_type": "markdown",
   "metadata": {},
   "source": [
    "We obtain a score of 0.976 which looks really good. Let's see how many labels of each kind the model has correctly predicted. We will use a simple loop that check each correct answer and store the answer in one of four variables which we are going to use later to compute the percentages of succes:"
   ]
  },
  {
   "cell_type": "code",
   "execution_count": 31,
   "metadata": {},
   "outputs": [
    {
     "name": "stdout",
     "output_type": "stream",
     "text": [
      "The percentage of success for each label is:\n",
      "\n",
      " 1:  81.48148148148148 \n",
      " 2:  98.59154929577466 \n",
      " 3:  42.04545454545455 \n",
      " 4:  27.659574468085108\n"
     ]
    }
   ],
   "source": [
    "train_label_prediction=clf.predict(covariates)#We take the label predictions using training data\n",
    "\n",
    "n1=0 #One variable for each label to keep track of every right prediction\n",
    "n2=0\n",
    "n3=0\n",
    "n4=0\n",
    "for i in range(len(train_label_prediction)):\n",
    "    #We check if there is a match between the predicted labels and the actual labels and then\n",
    "    #add the match to its corresponding label\n",
    "    if train_label_prediction[i]==labels[i]: #Remember that labels is an array which contains the training labels\n",
    "        if train_label_prediction[i] == 1:\n",
    "            n1+=1\n",
    "        elif train_label_prediction[i] == 2:\n",
    "            n2+=1\n",
    "        elif train_label_prediction[i] == 3:\n",
    "            n3+=1\n",
    "        elif train_label_prediction[i] == 4:\n",
    "                n4+=1\n",
    "print(\"The percentage of success for each label is:\\n\\n 1: \",n1/27*100, \"\\n 2: \",n2/213*100, \"\\n 3: \",n3/88*100, \"\\n 4: \",n4/47*100)\n",
    "#We extracted the label value counts in the first part of the notebook"
   ]
  },
  {
   "cell_type": "markdown",
   "metadata": {},
   "source": [
    "We can see that our model is really good at predicting \"walking\" and \"standing\" but it is quiet bad when it comes to \"stairs\". We already expected this because there were way more data labeled as \"walking\" than as the others. The fact that the model is also good predicting \"standing\" situations may be because is the most different activity of all (all \"x\", \"y\" and \"z\" will be close to 0 in this kind of physical activity)."
   ]
  },
  {
   "cell_type": "markdown",
   "metadata": {},
   "source": [
    "### 3.2 Predictions"
   ]
  },
  {
   "cell_type": "markdown",
   "metadata": {},
   "source": [
    "Let's now predict the labels corresponding to the accelerometer data stored in `test_time_series`:"
   ]
  },
  {
   "cell_type": "code",
   "execution_count": 32,
   "metadata": {},
   "outputs": [
    {
     "name": "stdout",
     "output_type": "stream",
     "text": [
      "The labels corresponding to the testing data are: \n",
      "  [2. 2. 3. 2. 2. 2. 2. 3. 2. 3. 2. 2. 2. 2. 3. 2. 4. 2. 2. 2. 2. 4. 2. 2.\n",
      " 2. 4. 2. 2. 3. 4. 2. 2. 2. 2. 2. 1. 2. 2. 1. 1. 1. 1. 1. 2. 1. 1. 1. 1.\n",
      " 1. 1. 1. 1. 2. 2. 2. 2. 2. 2. 2. 2. 2. 2. 2. 2. 2. 2. 3. 3. 3. 2. 2. 2.\n",
      " 2. 4. 2. 2. 2. 2. 2. 2. 2. 2. 2. 4. 2. 2. 2. 4. 2. 2. 2. 2. 2. 2. 2. 2.\n",
      " 2. 2. 2. 2. 2. 2. 2. 2. 2. 2. 2. 2. 2. 2. 2. 2. 2. 2. 2. 2. 2. 2. 2. 2.\n",
      " 2. 2. 2. 2. 2.]\n"
     ]
    }
   ],
   "source": [
    "test_covariates=test_time_series[all_covariates]#We define the data we are going to predict with\n",
    "test_labels_predict=clf.predict(test_covariates)#and make the prediction. The predicted labels are now\n",
    "                                               #stored in test_labels_predict\n",
    "    \n",
    "    \n",
    "\n",
    "print(\"The labels corresponding to the testing data are: \\n \",test_labels_predict)"
   ]
  },
  {
   "cell_type": "markdown",
   "metadata": {},
   "source": [
    "Let's make a bit of code to convert this numbers into integrees and store them in test_labels as we are requested:"
   ]
  },
  {
   "cell_type": "code",
   "execution_count": 33,
   "metadata": {},
   "outputs": [
    {
     "data": {
      "text/html": [
       "<div>\n",
       "<style scoped>\n",
       "    .dataframe tbody tr th:only-of-type {\n",
       "        vertical-align: middle;\n",
       "    }\n",
       "\n",
       "    .dataframe tbody tr th {\n",
       "        vertical-align: top;\n",
       "    }\n",
       "\n",
       "    .dataframe thead th {\n",
       "        text-align: right;\n",
       "    }\n",
       "</style>\n",
       "<table border=\"1\" class=\"dataframe\">\n",
       "  <thead>\n",
       "    <tr style=\"text-align: right;\">\n",
       "      <th></th>\n",
       "      <th>Unnamed: 0</th>\n",
       "      <th>timestamp</th>\n",
       "      <th>UTC time</th>\n",
       "      <th>label</th>\n",
       "    </tr>\n",
       "  </thead>\n",
       "  <tbody>\n",
       "    <tr>\n",
       "      <th>0</th>\n",
       "      <td>24339</td>\n",
       "      <td>1565110307041</td>\n",
       "      <td>2019-08-06T16:51:47.041</td>\n",
       "      <td>2</td>\n",
       "    </tr>\n",
       "    <tr>\n",
       "      <th>1</th>\n",
       "      <td>24349</td>\n",
       "      <td>1565110308043</td>\n",
       "      <td>2019-08-06T16:51:48.043</td>\n",
       "      <td>2</td>\n",
       "    </tr>\n",
       "    <tr>\n",
       "      <th>2</th>\n",
       "      <td>24359</td>\n",
       "      <td>1565110309046</td>\n",
       "      <td>2019-08-06T16:51:49.046</td>\n",
       "      <td>3</td>\n",
       "    </tr>\n",
       "    <tr>\n",
       "      <th>3</th>\n",
       "      <td>24369</td>\n",
       "      <td>1565110310048</td>\n",
       "      <td>2019-08-06T16:51:50.048</td>\n",
       "      <td>2</td>\n",
       "    </tr>\n",
       "    <tr>\n",
       "      <th>4</th>\n",
       "      <td>24379</td>\n",
       "      <td>1565110311050</td>\n",
       "      <td>2019-08-06T16:51:51.050</td>\n",
       "      <td>2</td>\n",
       "    </tr>\n",
       "  </tbody>\n",
       "</table>\n",
       "</div>"
      ],
      "text/plain": [
       "   Unnamed: 0      timestamp                 UTC time  label\n",
       "0       24339  1565110307041  2019-08-06T16:51:47.041      2\n",
       "1       24349  1565110308043  2019-08-06T16:51:48.043      2\n",
       "2       24359  1565110309046  2019-08-06T16:51:49.046      3\n",
       "3       24369  1565110310048  2019-08-06T16:51:50.048      2\n",
       "4       24379  1565110311050  2019-08-06T16:51:51.050      2"
      ]
     },
     "execution_count": 33,
     "metadata": {},
     "output_type": "execute_result"
    }
   ],
   "source": [
    "predicted_labels=[int(label) for label in test_labels_predict] #We covert labels numbers into \n",
    "                                                                #integrees and store them in a list\n",
    "    \n",
    "test_labels[\"label\"]=predicted_labels #We store the predicted labels in the \"label\" column of test_labels\n",
    "\n",
    "test_labels.to_csv(\"test_labels.csv\") #We save a csv document with test_labels dataframe\n",
    "\n",
    "test_labels.head()"
   ]
  },
  {
   "cell_type": "markdown",
   "metadata": {},
   "source": [
    "We can see that the predicted labels has successfuly added to the \"label\" column of `test_labels`. Let's now plot this labels vs time:"
   ]
  },
  {
   "cell_type": "code",
   "execution_count": 34,
   "metadata": {},
   "outputs": [
    {
     "name": "stdout",
     "output_type": "stream",
     "text": [
      "The runtime has been of:  8.078007099999999\n"
     ]
    },
    {
     "data": {
      "image/png": "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\n",
      "text/plain": [
       "<Figure size 432x288 with 1 Axes>"
      ]
     },
     "metadata": {
      "needs_background": "light"
     },
     "output_type": "display_data"
    }
   ],
   "source": [
    "plt.plot(test_labels[\"timestamp\"],test_labels[\"label\"],\"r-\")\n",
    "plt.title(\"Predicted labels visualization\",size=15)\n",
    "plt.xlabel(\"Time\",size=13)\n",
    "plt.ylabel(\"Physical activity label\", size=13)\n",
    "\n",
    "stop=timer() #We stop measuting the runtime as this is the last code cell.\n",
    "\n",
    "print(\"The runtime has been of: \", stop-start)"
   ]
  },
  {
   "cell_type": "markdown",
   "metadata": {},
   "source": [
    "Checking this solution in the accuracy test that the course provide us (the one which give us 0 to 30 points in this project) we get an accuracy around 50%. In the following section we will discuss this fact.\n",
    "\n",
    "We can see in the previous graph that most of the time the model has predicted the person to be walking. We also see that our model has troubles differencing between 2 and 3/4, as the model was trained with very few data from the latter activities and they are very similar to each other. But, we may have used some data processing for this label predictions because we can clearly identify the time intervales when the person is using stairs or even standing.\n",
    "\n",
    "Let's sumarize our project in the next section."
   ]
  },
  {
   "cell_type": "markdown",
   "metadata": {},
   "source": [
    "## 4.Conclusions"
   ]
  },
  {
   "cell_type": "markdown",
   "metadata": {},
   "source": [
    "We have made a model that predict which kind of physical activity (out of 4) a person is doing based on the accelerometer data of his phone. The results has been good but they are farly improvable. We have achived an accuracy of 50% for our model, parcially due to the smoothing process of our data and the correct features selection.\n",
    "\n",
    "I think we can improve this results analysing the model predictions as, despite the fact that our model predict mostly \"walking\" situation, it seems to be clear when this predictions actually correspond to this activity, and when it does for the rest. We may use some machine learning techniques to train our model to process the predictions in an accurate way. For example, we could use the \"density\" of certein label in some time interval to see how probable is this label to actual correspond to the physical activity that the person is doing and use some classification method that estimate each label \"density\" necessary for that label to actual be correct in a certein time interval.\n",
    "\n",
    "However, I think we have made a good job and that we have open the path to serveral optimization methods that, unfortunately, I don't have the time to implement.\n",
    "\n",
    "I hope you have enjoyed this project and that it has resulted useful in some way."
   ]
  }
 ],
 "metadata": {
  "kernelspec": {
   "display_name": "Python 3",
   "language": "python",
   "name": "python3"
  },
  "language_info": {
   "codemirror_mode": {
    "name": "ipython",
    "version": 3
   },
   "file_extension": ".py",
   "mimetype": "text/x-python",
   "name": "python",
   "nbconvert_exporter": "python",
   "pygments_lexer": "ipython3",
   "version": "3.7.6"
  }
 },
 "nbformat": 4,
 "nbformat_minor": 4
}
